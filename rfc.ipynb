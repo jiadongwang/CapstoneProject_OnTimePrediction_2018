{
 "cells": [
  {
   "cell_type": "code",
   "execution_count": 577,
   "metadata": {},
   "outputs": [],
   "source": [
    "import numpy as np\n",
    "import pandas as pd\n",
    "import itertools\n",
    "import matplotlib.pyplot as plt\n",
    "import seaborn as sns\n",
    "from sklearn.preprocessing import LabelBinarizer, LabelEncoder\n",
    "from sklearn.metrics import confusion_matrix\n",
    "\n"
   ]
  },
  {
   "cell_type": "code",
   "execution_count": 578,
   "metadata": {},
   "outputs": [],
   "source": [
    "#pull data\n",
    "excel_file = 'test_data 1.xlsm'\n",
    "test_data_1 = pd.read_excel(excel_file)\n",
    "\n",
    "\n",
    "train = test_data_1\n",
    "test = test_data_1"
   ]
  },
  {
   "cell_type": "code",
   "execution_count": 579,
   "metadata": {},
   "outputs": [],
   "source": [
    "#fill in blank spaces in data\n",
    "data = train.fillna(method='ffill')"
   ]
  },
  {
   "cell_type": "code",
   "execution_count": 580,
   "metadata": {
    "scrolled": true
   },
   "outputs": [
    {
     "data": {
      "text/html": [
       "<div>\n",
       "<style scoped>\n",
       "    .dataframe tbody tr th:only-of-type {\n",
       "        vertical-align: middle;\n",
       "    }\n",
       "\n",
       "    .dataframe tbody tr th {\n",
       "        vertical-align: top;\n",
       "    }\n",
       "\n",
       "    .dataframe thead th {\n",
       "        text-align: right;\n",
       "    }\n",
       "</style>\n",
       "<table border=\"1\" class=\"dataframe\">\n",
       "  <thead>\n",
       "    <tr style=\"text-align: right;\">\n",
       "      <th></th>\n",
       "      <th>YEAR</th>\n",
       "      <th>QUARTER</th>\n",
       "      <th>MONTH</th>\n",
       "      <th>DAY_OF_MONTH</th>\n",
       "      <th>DAY_OF_WEEK</th>\n",
       "      <th>ORIGIN</th>\n",
       "      <th>DEST</th>\n",
       "      <th>CRS_DEP_TIME</th>\n",
       "      <th>DEP_TIME</th>\n",
       "      <th>DEP_DELAY</th>\n",
       "      <th>DEP_DEL15</th>\n",
       "      <th>CRS_ARR_TIME</th>\n",
       "      <th>ARR_TIME</th>\n",
       "      <th>ARR_DELAY</th>\n",
       "      <th>ARR_DEL15</th>\n",
       "      <th>CRS_ELAPSED_TIME</th>\n",
       "      <th>DISTANCE</th>\n",
       "      <th>CRS_ELAPSED_TIME.1</th>\n",
       "      <th>FLIGHTS</th>\n",
       "      <th>DISTANCE.1</th>\n",
       "    </tr>\n",
       "  </thead>\n",
       "  <tbody>\n",
       "    <tr>\n",
       "      <th>0</th>\n",
       "      <td>2018</td>\n",
       "      <td>1</td>\n",
       "      <td>1</td>\n",
       "      <td>27</td>\n",
       "      <td>6</td>\n",
       "      <td>FLL</td>\n",
       "      <td>IAH</td>\n",
       "      <td>615</td>\n",
       "      <td>602</td>\n",
       "      <td>-13</td>\n",
       "      <td>0</td>\n",
       "      <td>808</td>\n",
       "      <td>756</td>\n",
       "      <td>-12</td>\n",
       "      <td>0</td>\n",
       "      <td>173</td>\n",
       "      <td>966</td>\n",
       "      <td>173.0</td>\n",
       "      <td>1.0</td>\n",
       "      <td>966.0</td>\n",
       "    </tr>\n",
       "    <tr>\n",
       "      <th>1</th>\n",
       "      <td>2018</td>\n",
       "      <td>1</td>\n",
       "      <td>1</td>\n",
       "      <td>27</td>\n",
       "      <td>6</td>\n",
       "      <td>SEA</td>\n",
       "      <td>SFO</td>\n",
       "      <td>618</td>\n",
       "      <td>614</td>\n",
       "      <td>-4</td>\n",
       "      <td>0</td>\n",
       "      <td>831</td>\n",
       "      <td>813</td>\n",
       "      <td>-18</td>\n",
       "      <td>1</td>\n",
       "      <td>133</td>\n",
       "      <td>679</td>\n",
       "      <td>133.0</td>\n",
       "      <td>1.0</td>\n",
       "      <td>679.0</td>\n",
       "    </tr>\n",
       "    <tr>\n",
       "      <th>2</th>\n",
       "      <td>2018</td>\n",
       "      <td>1</td>\n",
       "      <td>1</td>\n",
       "      <td>27</td>\n",
       "      <td>6</td>\n",
       "      <td>DCA</td>\n",
       "      <td>IAH</td>\n",
       "      <td>830</td>\n",
       "      <td>828</td>\n",
       "      <td>-2</td>\n",
       "      <td>0</td>\n",
       "      <td>1107</td>\n",
       "      <td>1108</td>\n",
       "      <td>1</td>\n",
       "      <td>0</td>\n",
       "      <td>217</td>\n",
       "      <td>1208</td>\n",
       "      <td>217.0</td>\n",
       "      <td>1.0</td>\n",
       "      <td>1208.0</td>\n",
       "    </tr>\n",
       "    <tr>\n",
       "      <th>3</th>\n",
       "      <td>2018</td>\n",
       "      <td>1</td>\n",
       "      <td>1</td>\n",
       "      <td>27</td>\n",
       "      <td>6</td>\n",
       "      <td>LAX</td>\n",
       "      <td>ORD</td>\n",
       "      <td>650</td>\n",
       "      <td>641</td>\n",
       "      <td>-9</td>\n",
       "      <td>0</td>\n",
       "      <td>1250</td>\n",
       "      <td>1242</td>\n",
       "      <td>-8</td>\n",
       "      <td>0</td>\n",
       "      <td>240</td>\n",
       "      <td>1744</td>\n",
       "      <td>240.0</td>\n",
       "      <td>1.0</td>\n",
       "      <td>1744.0</td>\n",
       "    </tr>\n",
       "    <tr>\n",
       "      <th>4</th>\n",
       "      <td>2018</td>\n",
       "      <td>1</td>\n",
       "      <td>1</td>\n",
       "      <td>27</td>\n",
       "      <td>6</td>\n",
       "      <td>JAX</td>\n",
       "      <td>EWR</td>\n",
       "      <td>1824</td>\n",
       "      <td>1810</td>\n",
       "      <td>-14</td>\n",
       "      <td>0</td>\n",
       "      <td>2045</td>\n",
       "      <td>2021</td>\n",
       "      <td>-24</td>\n",
       "      <td>1</td>\n",
       "      <td>141</td>\n",
       "      <td>820</td>\n",
       "      <td>141.0</td>\n",
       "      <td>1.0</td>\n",
       "      <td>820.0</td>\n",
       "    </tr>\n",
       "    <tr>\n",
       "      <th>5</th>\n",
       "      <td>2018</td>\n",
       "      <td>1</td>\n",
       "      <td>1</td>\n",
       "      <td>27</td>\n",
       "      <td>6</td>\n",
       "      <td>IAH</td>\n",
       "      <td>PHX</td>\n",
       "      <td>1420</td>\n",
       "      <td>1413</td>\n",
       "      <td>-7</td>\n",
       "      <td>0</td>\n",
       "      <td>1618</td>\n",
       "      <td>1559</td>\n",
       "      <td>-19</td>\n",
       "      <td>1</td>\n",
       "      <td>178</td>\n",
       "      <td>1009</td>\n",
       "      <td>178.0</td>\n",
       "      <td>1.0</td>\n",
       "      <td>1009.0</td>\n",
       "    </tr>\n",
       "    <tr>\n",
       "      <th>6</th>\n",
       "      <td>2018</td>\n",
       "      <td>1</td>\n",
       "      <td>1</td>\n",
       "      <td>27</td>\n",
       "      <td>6</td>\n",
       "      <td>EWR</td>\n",
       "      <td>HNL</td>\n",
       "      <td>815</td>\n",
       "      <td>842</td>\n",
       "      <td>27</td>\n",
       "      <td>1</td>\n",
       "      <td>1438</td>\n",
       "      <td>1457</td>\n",
       "      <td>19</td>\n",
       "      <td>1</td>\n",
       "      <td>683</td>\n",
       "      <td>4962</td>\n",
       "      <td>683.0</td>\n",
       "      <td>1.0</td>\n",
       "      <td>4962.0</td>\n",
       "    </tr>\n",
       "    <tr>\n",
       "      <th>7</th>\n",
       "      <td>2018</td>\n",
       "      <td>1</td>\n",
       "      <td>1</td>\n",
       "      <td>27</td>\n",
       "      <td>6</td>\n",
       "      <td>HNL</td>\n",
       "      <td>EWR</td>\n",
       "      <td>1615</td>\n",
       "      <td>1623</td>\n",
       "      <td>8</td>\n",
       "      <td>0</td>\n",
       "      <td>653</td>\n",
       "      <td>630</td>\n",
       "      <td>-23</td>\n",
       "      <td>1</td>\n",
       "      <td>578</td>\n",
       "      <td>4962</td>\n",
       "      <td>578.0</td>\n",
       "      <td>1.0</td>\n",
       "      <td>4962.0</td>\n",
       "    </tr>\n",
       "    <tr>\n",
       "      <th>8</th>\n",
       "      <td>2018</td>\n",
       "      <td>1</td>\n",
       "      <td>1</td>\n",
       "      <td>27</td>\n",
       "      <td>6</td>\n",
       "      <td>LAS</td>\n",
       "      <td>SFO</td>\n",
       "      <td>1520</td>\n",
       "      <td>1515</td>\n",
       "      <td>-5</td>\n",
       "      <td>0</td>\n",
       "      <td>1703</td>\n",
       "      <td>1641</td>\n",
       "      <td>-22</td>\n",
       "      <td>1</td>\n",
       "      <td>103</td>\n",
       "      <td>414</td>\n",
       "      <td>103.0</td>\n",
       "      <td>1.0</td>\n",
       "      <td>414.0</td>\n",
       "    </tr>\n",
       "    <tr>\n",
       "      <th>9</th>\n",
       "      <td>2018</td>\n",
       "      <td>1</td>\n",
       "      <td>1</td>\n",
       "      <td>27</td>\n",
       "      <td>6</td>\n",
       "      <td>IAD</td>\n",
       "      <td>TPA</td>\n",
       "      <td>1753</td>\n",
       "      <td>1746</td>\n",
       "      <td>-7</td>\n",
       "      <td>0</td>\n",
       "      <td>2019</td>\n",
       "      <td>2001</td>\n",
       "      <td>-18</td>\n",
       "      <td>1</td>\n",
       "      <td>146</td>\n",
       "      <td>811</td>\n",
       "      <td>146.0</td>\n",
       "      <td>1.0</td>\n",
       "      <td>811.0</td>\n",
       "    </tr>\n",
       "  </tbody>\n",
       "</table>\n",
       "</div>"
      ],
      "text/plain": [
       "   YEAR  QUARTER  MONTH  DAY_OF_MONTH  DAY_OF_WEEK ORIGIN DEST  CRS_DEP_TIME  \\\n",
       "0  2018        1      1            27            6    FLL  IAH           615   \n",
       "1  2018        1      1            27            6    SEA  SFO           618   \n",
       "2  2018        1      1            27            6    DCA  IAH           830   \n",
       "3  2018        1      1            27            6    LAX  ORD           650   \n",
       "4  2018        1      1            27            6    JAX  EWR          1824   \n",
       "5  2018        1      1            27            6    IAH  PHX          1420   \n",
       "6  2018        1      1            27            6    EWR  HNL           815   \n",
       "7  2018        1      1            27            6    HNL  EWR          1615   \n",
       "8  2018        1      1            27            6    LAS  SFO          1520   \n",
       "9  2018        1      1            27            6    IAD  TPA          1753   \n",
       "\n",
       "   DEP_TIME  DEP_DELAY  DEP_DEL15  CRS_ARR_TIME  ARR_TIME  ARR_DELAY  \\\n",
       "0       602        -13          0           808       756        -12   \n",
       "1       614         -4          0           831       813        -18   \n",
       "2       828         -2          0          1107      1108          1   \n",
       "3       641         -9          0          1250      1242         -8   \n",
       "4      1810        -14          0          2045      2021        -24   \n",
       "5      1413         -7          0          1618      1559        -19   \n",
       "6       842         27          1          1438      1457         19   \n",
       "7      1623          8          0           653       630        -23   \n",
       "8      1515         -5          0          1703      1641        -22   \n",
       "9      1746         -7          0          2019      2001        -18   \n",
       "\n",
       "   ARR_DEL15  CRS_ELAPSED_TIME  DISTANCE  CRS_ELAPSED_TIME.1  FLIGHTS  \\\n",
       "0          0               173       966               173.0      1.0   \n",
       "1          1               133       679               133.0      1.0   \n",
       "2          0               217      1208               217.0      1.0   \n",
       "3          0               240      1744               240.0      1.0   \n",
       "4          1               141       820               141.0      1.0   \n",
       "5          1               178      1009               178.0      1.0   \n",
       "6          1               683      4962               683.0      1.0   \n",
       "7          1               578      4962               578.0      1.0   \n",
       "8          1               103       414               103.0      1.0   \n",
       "9          1               146       811               146.0      1.0   \n",
       "\n",
       "   DISTANCE.1  \n",
       "0       966.0  \n",
       "1       679.0  \n",
       "2      1208.0  \n",
       "3      1744.0  \n",
       "4       820.0  \n",
       "5      1009.0  \n",
       "6      4962.0  \n",
       "7      4962.0  \n",
       "8       414.0  \n",
       "9       811.0  "
      ]
     },
     "execution_count": 580,
     "metadata": {},
     "output_type": "execute_result"
    }
   ],
   "source": [
    "#show visual of data pulled\n",
    "train.head(10)"
   ]
  },
  {
   "cell_type": "code",
   "execution_count": 581,
   "metadata": {},
   "outputs": [],
   "source": [
    "\n",
    "y_train= train[\"ARR_DEL15\"]"
   ]
  },
  {
   "cell_type": "code",
   "execution_count": 582,
   "metadata": {
    "scrolled": true
   },
   "outputs": [],
   "source": [
    "#removing unused inputs\n",
    "train = train.drop(['YEAR','MONTH','DAY_OF_MONTH','ORIGIN','DEST','DEP_TIME','CRS_DEP_TIME','DEP_DELAY','ARR_DELAY','QUARTER','DAY_OF_WEEK','FLIGHTS','ARR_DEL15','CRS_ELAPSED_TIME','DISTANCE','DISTANCE.1','CRS_ELAPSED_TIME.1','DEP_DEL15'], axis=1)\n",
    "test = test.drop(['YEAR','MONTH','DAY_OF_MONTH','ORIGIN','DEST','DEP_TIME','CRS_DEP_TIME','DEP_DELAY','ARR_DELAY','QUARTER','DAY_OF_WEEK','FLIGHTS','ARR_DEL15','CRS_ELAPSED_TIME','DISTANCE','DISTANCE.1','CRS_ELAPSED_TIME.1','DEP_DEL15'], axis=1)\n"
   ]
  },
  {
   "cell_type": "code",
   "execution_count": 583,
   "metadata": {},
   "outputs": [
    {
     "data": {
      "text/html": [
       "<div>\n",
       "<style scoped>\n",
       "    .dataframe tbody tr th:only-of-type {\n",
       "        vertical-align: middle;\n",
       "    }\n",
       "\n",
       "    .dataframe tbody tr th {\n",
       "        vertical-align: top;\n",
       "    }\n",
       "\n",
       "    .dataframe thead th {\n",
       "        text-align: right;\n",
       "    }\n",
       "</style>\n",
       "<table border=\"1\" class=\"dataframe\">\n",
       "  <thead>\n",
       "    <tr style=\"text-align: right;\">\n",
       "      <th></th>\n",
       "      <th>CRS_ARR_TIME</th>\n",
       "      <th>ARR_TIME</th>\n",
       "      <th>total_time</th>\n",
       "      <th>on_time/delayed</th>\n",
       "    </tr>\n",
       "  </thead>\n",
       "  <tbody>\n",
       "    <tr>\n",
       "      <th>0</th>\n",
       "      <td>808</td>\n",
       "      <td>756</td>\n",
       "      <td>52</td>\n",
       "      <td>1</td>\n",
       "    </tr>\n",
       "    <tr>\n",
       "      <th>1</th>\n",
       "      <td>831</td>\n",
       "      <td>813</td>\n",
       "      <td>18</td>\n",
       "      <td>1</td>\n",
       "    </tr>\n",
       "    <tr>\n",
       "      <th>2</th>\n",
       "      <td>1107</td>\n",
       "      <td>1108</td>\n",
       "      <td>-1</td>\n",
       "      <td>0</td>\n",
       "    </tr>\n",
       "    <tr>\n",
       "      <th>3</th>\n",
       "      <td>1250</td>\n",
       "      <td>1242</td>\n",
       "      <td>8</td>\n",
       "      <td>0</td>\n",
       "    </tr>\n",
       "    <tr>\n",
       "      <th>4</th>\n",
       "      <td>2045</td>\n",
       "      <td>2021</td>\n",
       "      <td>24</td>\n",
       "      <td>1</td>\n",
       "    </tr>\n",
       "  </tbody>\n",
       "</table>\n",
       "</div>"
      ],
      "text/plain": [
       "   CRS_ARR_TIME  ARR_TIME  total_time  on_time/delayed\n",
       "0           808       756          52                1\n",
       "1           831       813          18                1\n",
       "2          1107      1108          -1                0\n",
       "3          1250      1242           8                0\n",
       "4          2045      2021          24                1"
      ]
     },
     "execution_count": 583,
     "metadata": {},
     "output_type": "execute_result"
    }
   ],
   "source": [
    "#CREATE TWO COLUMNS TO REPRESENT TOTAL TIME AND DELAYS\n",
    "\n",
    "train['total_time'] = train['CRS_ARR_TIME'] - train['ARR_TIME']\n",
    "train['on_time/delayed'] = np.where(train['total_time']>= 15, 1, 0)\n",
    "#delay=1 on-time=0\n",
    "train.head()"
   ]
  },
  {
   "cell_type": "code",
   "execution_count": 584,
   "metadata": {},
   "outputs": [
    {
     "name": "stdout",
     "output_type": "stream",
     "text": [
      "Train_data_size: 3997\n",
      "Test_data_size: 3997\n"
     ]
    }
   ],
   "source": [
    "#size of data training and testing\n",
    "\n",
    "train_size = int(len(train) * .8)\n",
    "print (\"Train_data_size: %d\" % train_size)\n",
    "\n",
    "test_size = int(len(test) * .8)\n",
    "print (\"Test_data_size: %d\" % test_size)\n"
   ]
  },
  {
   "cell_type": "code",
   "execution_count": 585,
   "metadata": {},
   "outputs": [
    {
     "data": {
      "text/plain": [
       "Index(['CRS_ARR_TIME', 'ARR_TIME'], dtype='object')"
      ]
     },
     "execution_count": 585,
     "metadata": {},
     "output_type": "execute_result"
    }
   ],
   "source": [
    "#preprocessing\n",
    "features = train.columns[:2]\n",
    "features"
   ]
  },
  {
   "cell_type": "code",
   "execution_count": 586,
   "metadata": {},
   "outputs": [],
   "source": [
    "# train_test_split function\n",
    "from sklearn.model_selection import train_test_split\n",
    "\n",
    "X_train, X_test, y_train, y_test = train_test_split(X, y, test_size=0.2, random_state=0)  "
   ]
  },
  {
   "cell_type": "code",
   "execution_count": 587,
   "metadata": {},
   "outputs": [
    {
     "name": "stderr",
     "output_type": "stream",
     "text": [
      "C:\\Users\\acl112\\AppData\\Local\\Continuum\\anaconda3\\lib\\site-packages\\sklearn\\preprocessing\\data.py:323: DataConversionWarning: Data with input dtype int64 were all converted to float64 by MinMaxScaler.\n",
      "  return self.partial_fit(X, y)\n"
     ]
    }
   ],
   "source": [
    "#Transform the data:/featured scaling\n",
    "\n",
    "from sklearn.preprocessing import MinMaxScaler\n",
    "\n",
    "scaler = MinMaxScaler()\n",
    "X_train = scaler.fit_transform(X_train)\n",
    "X_test = scaler.transform(X_test)"
   ]
  },
  {
   "cell_type": "code",
   "execution_count": 594,
   "metadata": {},
   "outputs": [],
   "source": [
    "#Import Random Forest Model\n",
    "from sklearn.ensemble import RandomForestClassifier\n",
    "\n",
    "#Create a Gaussian Classifier\n",
    "classifier=RandomForestClassifier(n_estimators=1000,random_state=0)  \n",
    "classifier.fit(X_train, y_train)  \n",
    "y_pred =classifier.predict(X_test)"
   ]
  },
  {
   "cell_type": "code",
   "execution_count": 596,
   "metadata": {},
   "outputs": [],
   "source": [
    "# Apply the Classifier we trained to the test data (which, remember, it has never seen before)\n",
    "#clf.predict(test[features])"
   ]
  },
  {
   "cell_type": "code",
   "execution_count": 597,
   "metadata": {},
   "outputs": [
    {
     "name": "stdout",
     "output_type": "stream",
     "text": [
      "Accuracy: 0.871\n"
     ]
    }
   ],
   "source": [
    "#accuracy calculation\n",
    "from sklearn import metrics\n",
    "\n",
    "print(\"Accuracy:\",metrics.accuracy_score(y_test, y_pred))"
   ]
  },
  {
   "cell_type": "code",
   "execution_count": 598,
   "metadata": {},
   "outputs": [
    {
     "name": "stdout",
     "output_type": "stream",
     "text": [
      "              precision    recall  f1-score   support\n",
      "\n",
      "           0       0.87      0.76      0.81       360\n",
      "           1       0.87      0.94      0.90       640\n",
      "\n",
      "   micro avg       0.87      0.87      0.87      1000\n",
      "   macro avg       0.87      0.85      0.86      1000\n",
      "weighted avg       0.87      0.87      0.87      1000\n",
      "\n"
     ]
    }
   ],
   "source": [
    "from sklearn.metrics import classification_report\n",
    "\n",
    "\n",
    "print(classification_report(y_test,y_pred))  \n"
   ]
  },
  {
   "cell_type": "code",
   "execution_count": 599,
   "metadata": {},
   "outputs": [
    {
     "name": "stdout",
     "output_type": "stream",
     "text": [
      "Area under the ROC curve: 0.15425347222222224\n"
     ]
    },
    {
     "data": {
      "text/plain": [
       "Text(0.5, 1.0, 'Receiver operating characteristic (ROC)')"
      ]
     },
     "execution_count": 599,
     "metadata": {},
     "output_type": "execute_result"
    },
    {
     "data": {
      "image/png": "[encoded data removed]",
      "text/plain": [
       "<Figure size 432x288 with 1 Axes>"
      ]
     },
     "metadata": {
      "needs_background": "light"
     },
     "output_type": "display_data"
    }
   ],
   "source": [
    "\n",
    "y_pred = classifier.predict(X_test)\n",
    "\n",
    "labels = [0, 1]\n",
    "cm = confusion_matrix(y_test, y_pred,labels)\n",
    "\n",
    "fpr, tpr, _ = roc_curve(y_test, y_pred)\n",
    "auc = np.trapz(fpr,tpr)\n",
    "print('Area under the ROC curve: ' + str(auc))\n",
    "\n",
    "fig = plt.figure(1)\n",
    "plt.plot(fpr,tpr,color='green')\n",
    "plt.xlabel('False positive rate (FPR)')\n",
    "plt.ylabel('True positive rate (TPR)')\n",
    "plt.title('Receiver operating characteristic (ROC)')"
   ]
  },
  {
   "cell_type": "code",
   "execution_count": 600,
   "metadata": {
    "scrolled": true
   },
   "outputs": [
    {
     "data": {
      "text/plain": [
       "Text(0.5, 15.0, 'Predicted Label')"
      ]
     },
     "execution_count": 600,
     "metadata": {},
     "output_type": "execute_result"
    },
    {
     "data": {
      "image/png": "[encoded data removed]",
      "text/plain": [
       "<Figure size 432x288 with 2 Axes>"
      ]
     },
     "metadata": {
      "needs_background": "light"
     },
     "output_type": "display_data"
    }
   ],
   "source": [
    "rfc_cm = confusion_matrix(y_test,y_pred)\n",
    "\n",
    "ax = sns.heatmap(rfc_cm,annot=True,cmap='coolwarm',fmt='.0f')\n",
    "ax.set_title('Random Forest Classifier Confusion Matrix')\n",
    "ax.set_ylabel('True Label')\n",
    "ax.set_xlabel('Predicted Label')"
   ]
  },
  {
   "cell_type": "code",
   "execution_count": null,
   "metadata": {},
   "outputs": [],
   "source": []
  },
  {
   "cell_type": "code",
   "execution_count": null,
   "metadata": {},
   "outputs": [],
   "source": []
  },
  {
   "cell_type": "code",
   "execution_count": null,
   "metadata": {},
   "outputs": [],
   "source": []
  },
  {
   "cell_type": "code",
   "execution_count": null,
   "metadata": {},
   "outputs": [],
   "source": []
  }
 ],
 "metadata": {
  "kernelspec": {
   "display_name": "Python 3",
   "language": "python",
   "name": "python3"
  },
  "language_info": {
   "codemirror_mode": {
    "name": "ipython",
    "version": 3
   },
   "file_extension": ".py",
   "mimetype": "text/x-python",
   "name": "python",
   "nbconvert_exporter": "python",
   "pygments_lexer": "ipython3",
   "version": "3.7.1"
  }
 },
 "nbformat": 4,
 "nbformat_minor": 2
}
