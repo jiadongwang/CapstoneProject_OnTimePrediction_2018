{
 "cells": [
  {
   "cell_type": "code",
   "execution_count": 1,
   "metadata": {},
   "outputs": [],
   "source": [
    "#Import environments:\n",
    "\n",
    "import pandas as pd\n",
    "import numpy as np\n",
    "import sklearn\n",
    "from sklearn import linear_model\n",
    "from sklearn.linear_model import LogisticRegression\n",
    "from sklearn.ensemble import GradientBoostingClassifier\n",
    "from sklearn.ensemble import RandomForestClassifier\n",
    "from sklearn.tree import DecisionTreeClassifier\n",
    "from sklearn.model_selection import train_test_split\n",
    "from sklearn.metrics import confusion_matrix, roc_curve\n",
    "import seaborn as sns\n",
    "import matplotlib.pyplot as plt"
   ]
  },
  {
   "cell_type": "code",
   "execution_count": 2,
   "metadata": {},
   "outputs": [],
   "source": [
    "#Load Data:\n",
    "\n",
    "airport = pd.read_excel (r'C:\\Users\\nvhuy\\Desktop\\test_data.xlsx')"
   ]
  },
  {
   "cell_type": "code",
   "execution_count": 3,
   "metadata": {},
   "outputs": [
    {
     "data": {
      "text/plain": [
       "(4997, 20)"
      ]
     },
     "execution_count": 3,
     "metadata": {},
     "output_type": "execute_result"
    }
   ],
   "source": [
    "airport.shape"
   ]
  },
  {
   "cell_type": "code",
   "execution_count": 4,
   "metadata": {},
   "outputs": [
    {
     "data": {
      "text/plain": [
       "True"
      ]
     },
     "execution_count": 4,
     "metadata": {},
     "output_type": "execute_result"
    }
   ],
   "source": [
    "airport.isnull().values.any()"
   ]
  },
  {
   "cell_type": "code",
   "execution_count": 5,
   "metadata": {},
   "outputs": [
    {
     "data": {
      "text/plain": [
       "YEAR                     0\n",
       "QUARTER                  0\n",
       "MONTH                    0\n",
       "DAY_OF_MONTH             0\n",
       "DAY_OF_WEEK              0\n",
       "ORIGIN                   0\n",
       "DEST                     0\n",
       "CRS_DEP_TIME             0\n",
       "DEP_TIME                 0\n",
       "DEP_DELAY                0\n",
       "DEP_DEL15                0\n",
       "CRS_ARR_TIME             0\n",
       "ARR_TIME                 0\n",
       "ARR_DELAY                0\n",
       "ARR_DEL15                0\n",
       "CRS_ELAPSED_TIME         0\n",
       "DISTANCE                 0\n",
       "CRS_ELAPSED_TIME.1    4847\n",
       "FLIGHTS               4847\n",
       "DISTANCE.1            4847\n",
       "dtype: int64"
      ]
     },
     "execution_count": 5,
     "metadata": {},
     "output_type": "execute_result"
    }
   ],
   "source": [
    "airport.isnull().sum()"
   ]
  },
  {
   "cell_type": "code",
   "execution_count": 6,
   "metadata": {},
   "outputs": [],
   "source": [
    "columns_to_drop = [\"ORIGIN\",\"ORIGIN_STATE\",\"DEST\",\"DEST_STATE\"]"
   ]
  },
  {
   "cell_type": "code",
   "execution_count": 7,
   "metadata": {},
   "outputs": [
    {
     "data": {
      "text/plain": [
       "False"
      ]
     },
     "execution_count": 7,
     "metadata": {},
     "output_type": "execute_result"
    }
   ],
   "source": [
    "airport.fillna(value=0, inplace=True)\n",
    "airport.isnull().values.any()"
   ]
  },
  {
   "cell_type": "code",
   "execution_count": 8,
   "metadata": {},
   "outputs": [
    {
     "data": {
      "text/html": [
       "<div>\n",
       "<style scoped>\n",
       "    .dataframe tbody tr th:only-of-type {\n",
       "        vertical-align: middle;\n",
       "    }\n",
       "\n",
       "    .dataframe tbody tr th {\n",
       "        vertical-align: top;\n",
       "    }\n",
       "\n",
       "    .dataframe thead th {\n",
       "        text-align: right;\n",
       "    }\n",
       "</style>\n",
       "<table border=\"1\" class=\"dataframe\">\n",
       "  <thead>\n",
       "    <tr style=\"text-align: right;\">\n",
       "      <th></th>\n",
       "      <th>YEAR</th>\n",
       "      <th>QUARTER</th>\n",
       "      <th>MONTH</th>\n",
       "      <th>DAY_OF_MONTH</th>\n",
       "      <th>DAY_OF_WEEK</th>\n",
       "      <th>ORIGIN</th>\n",
       "      <th>DEST</th>\n",
       "      <th>CRS_DEP_TIME</th>\n",
       "      <th>DEP_TIME</th>\n",
       "      <th>DEP_DELAY</th>\n",
       "      <th>DEP_DEL15</th>\n",
       "      <th>CRS_ARR_TIME</th>\n",
       "      <th>ARR_TIME</th>\n",
       "      <th>ARR_DELAY</th>\n",
       "      <th>ARR_DEL15</th>\n",
       "      <th>CRS_ELAPSED_TIME</th>\n",
       "      <th>DISTANCE</th>\n",
       "      <th>CRS_ELAPSED_TIME.1</th>\n",
       "      <th>FLIGHTS</th>\n",
       "      <th>DISTANCE.1</th>\n",
       "    </tr>\n",
       "  </thead>\n",
       "  <tbody>\n",
       "    <tr>\n",
       "      <th>0</th>\n",
       "      <td>2018</td>\n",
       "      <td>1</td>\n",
       "      <td>1</td>\n",
       "      <td>27</td>\n",
       "      <td>6</td>\n",
       "      <td>FLL</td>\n",
       "      <td>IAH</td>\n",
       "      <td>6</td>\n",
       "      <td>602</td>\n",
       "      <td>-13</td>\n",
       "      <td>0</td>\n",
       "      <td>808</td>\n",
       "      <td>756</td>\n",
       "      <td>-12</td>\n",
       "      <td>0</td>\n",
       "      <td>173</td>\n",
       "      <td>966</td>\n",
       "      <td>173.0</td>\n",
       "      <td>1.0</td>\n",
       "      <td>966.0</td>\n",
       "    </tr>\n",
       "    <tr>\n",
       "      <th>1</th>\n",
       "      <td>2018</td>\n",
       "      <td>1</td>\n",
       "      <td>1</td>\n",
       "      <td>27</td>\n",
       "      <td>6</td>\n",
       "      <td>SEA</td>\n",
       "      <td>SFO</td>\n",
       "      <td>6</td>\n",
       "      <td>614</td>\n",
       "      <td>-4</td>\n",
       "      <td>0</td>\n",
       "      <td>831</td>\n",
       "      <td>813</td>\n",
       "      <td>-18</td>\n",
       "      <td>0</td>\n",
       "      <td>133</td>\n",
       "      <td>679</td>\n",
       "      <td>133.0</td>\n",
       "      <td>1.0</td>\n",
       "      <td>679.0</td>\n",
       "    </tr>\n",
       "    <tr>\n",
       "      <th>2</th>\n",
       "      <td>2018</td>\n",
       "      <td>1</td>\n",
       "      <td>1</td>\n",
       "      <td>27</td>\n",
       "      <td>6</td>\n",
       "      <td>DCA</td>\n",
       "      <td>IAH</td>\n",
       "      <td>8</td>\n",
       "      <td>828</td>\n",
       "      <td>-2</td>\n",
       "      <td>0</td>\n",
       "      <td>1107</td>\n",
       "      <td>1108</td>\n",
       "      <td>1</td>\n",
       "      <td>0</td>\n",
       "      <td>217</td>\n",
       "      <td>1208</td>\n",
       "      <td>217.0</td>\n",
       "      <td>1.0</td>\n",
       "      <td>1208.0</td>\n",
       "    </tr>\n",
       "    <tr>\n",
       "      <th>3</th>\n",
       "      <td>2018</td>\n",
       "      <td>1</td>\n",
       "      <td>1</td>\n",
       "      <td>27</td>\n",
       "      <td>6</td>\n",
       "      <td>LAX</td>\n",
       "      <td>ORD</td>\n",
       "      <td>6</td>\n",
       "      <td>641</td>\n",
       "      <td>-9</td>\n",
       "      <td>0</td>\n",
       "      <td>1250</td>\n",
       "      <td>1242</td>\n",
       "      <td>-8</td>\n",
       "      <td>0</td>\n",
       "      <td>240</td>\n",
       "      <td>1744</td>\n",
       "      <td>240.0</td>\n",
       "      <td>1.0</td>\n",
       "      <td>1744.0</td>\n",
       "    </tr>\n",
       "    <tr>\n",
       "      <th>4</th>\n",
       "      <td>2018</td>\n",
       "      <td>1</td>\n",
       "      <td>1</td>\n",
       "      <td>27</td>\n",
       "      <td>6</td>\n",
       "      <td>JAX</td>\n",
       "      <td>EWR</td>\n",
       "      <td>18</td>\n",
       "      <td>1810</td>\n",
       "      <td>-14</td>\n",
       "      <td>0</td>\n",
       "      <td>2045</td>\n",
       "      <td>2021</td>\n",
       "      <td>-24</td>\n",
       "      <td>0</td>\n",
       "      <td>141</td>\n",
       "      <td>820</td>\n",
       "      <td>141.0</td>\n",
       "      <td>1.0</td>\n",
       "      <td>820.0</td>\n",
       "    </tr>\n",
       "  </tbody>\n",
       "</table>\n",
       "</div>"
      ],
      "text/plain": [
       "   YEAR  QUARTER  MONTH  DAY_OF_MONTH  DAY_OF_WEEK ORIGIN DEST  CRS_DEP_TIME  \\\n",
       "0  2018        1      1            27            6    FLL  IAH             6   \n",
       "1  2018        1      1            27            6    SEA  SFO             6   \n",
       "2  2018        1      1            27            6    DCA  IAH             8   \n",
       "3  2018        1      1            27            6    LAX  ORD             6   \n",
       "4  2018        1      1            27            6    JAX  EWR            18   \n",
       "\n",
       "   DEP_TIME  DEP_DELAY  DEP_DEL15  CRS_ARR_TIME  ARR_TIME  ARR_DELAY  \\\n",
       "0       602        -13          0           808       756        -12   \n",
       "1       614         -4          0           831       813        -18   \n",
       "2       828         -2          0          1107      1108          1   \n",
       "3       641         -9          0          1250      1242         -8   \n",
       "4      1810        -14          0          2045      2021        -24   \n",
       "\n",
       "   ARR_DEL15  CRS_ELAPSED_TIME  DISTANCE  CRS_ELAPSED_TIME.1  FLIGHTS  \\\n",
       "0          0               173       966               173.0      1.0   \n",
       "1          0               133       679               133.0      1.0   \n",
       "2          0               217      1208               217.0      1.0   \n",
       "3          0               240      1744               240.0      1.0   \n",
       "4          0               141       820               141.0      1.0   \n",
       "\n",
       "   DISTANCE.1  \n",
       "0       966.0  \n",
       "1       679.0  \n",
       "2      1208.0  \n",
       "3      1744.0  \n",
       "4       820.0  "
      ]
     },
     "execution_count": 8,
     "metadata": {},
     "output_type": "execute_result"
    }
   ],
   "source": [
    "import math\n",
    "\n",
    "for index, row in airport.iterrows():\n",
    "    airport.loc[index, 'CRS_DEP_TIME'] = math.floor(row['CRS_DEP_TIME'] / 100)\n",
    "airport.head()"
   ]
  },
  {
   "cell_type": "code",
   "execution_count": 9,
   "metadata": {},
   "outputs": [
    {
     "data": {
      "text/html": [
       "<div>\n",
       "<style scoped>\n",
       "    .dataframe tbody tr th:only-of-type {\n",
       "        vertical-align: middle;\n",
       "    }\n",
       "\n",
       "    .dataframe tbody tr th {\n",
       "        vertical-align: top;\n",
       "    }\n",
       "\n",
       "    .dataframe thead th {\n",
       "        text-align: right;\n",
       "    }\n",
       "</style>\n",
       "<table border=\"1\" class=\"dataframe\">\n",
       "  <thead>\n",
       "    <tr style=\"text-align: right;\">\n",
       "      <th></th>\n",
       "      <th>YEAR</th>\n",
       "      <th>QUARTER</th>\n",
       "      <th>MONTH</th>\n",
       "      <th>DAY_OF_MONTH</th>\n",
       "      <th>DAY_OF_WEEK</th>\n",
       "      <th>CRS_DEP_TIME</th>\n",
       "      <th>DEP_TIME</th>\n",
       "      <th>DEP_DELAY</th>\n",
       "      <th>DEP_DEL15</th>\n",
       "      <th>CRS_ARR_TIME</th>\n",
       "      <th>...</th>\n",
       "      <th>DEST_SEA</th>\n",
       "      <th>DEST_SFO</th>\n",
       "      <th>DEST_SJC</th>\n",
       "      <th>DEST_SJU</th>\n",
       "      <th>DEST_SLC</th>\n",
       "      <th>DEST_SMF</th>\n",
       "      <th>DEST_SNA</th>\n",
       "      <th>DEST_TPA</th>\n",
       "      <th>DEST_TUS</th>\n",
       "      <th>DEST_TYS</th>\n",
       "    </tr>\n",
       "  </thead>\n",
       "  <tbody>\n",
       "    <tr>\n",
       "      <th>0</th>\n",
       "      <td>2018</td>\n",
       "      <td>1</td>\n",
       "      <td>1</td>\n",
       "      <td>27</td>\n",
       "      <td>6</td>\n",
       "      <td>6</td>\n",
       "      <td>602</td>\n",
       "      <td>-13</td>\n",
       "      <td>0</td>\n",
       "      <td>808</td>\n",
       "      <td>...</td>\n",
       "      <td>0</td>\n",
       "      <td>0</td>\n",
       "      <td>0</td>\n",
       "      <td>0</td>\n",
       "      <td>0</td>\n",
       "      <td>0</td>\n",
       "      <td>0</td>\n",
       "      <td>0</td>\n",
       "      <td>0</td>\n",
       "      <td>0</td>\n",
       "    </tr>\n",
       "    <tr>\n",
       "      <th>1</th>\n",
       "      <td>2018</td>\n",
       "      <td>1</td>\n",
       "      <td>1</td>\n",
       "      <td>27</td>\n",
       "      <td>6</td>\n",
       "      <td>6</td>\n",
       "      <td>614</td>\n",
       "      <td>-4</td>\n",
       "      <td>0</td>\n",
       "      <td>831</td>\n",
       "      <td>...</td>\n",
       "      <td>0</td>\n",
       "      <td>1</td>\n",
       "      <td>0</td>\n",
       "      <td>0</td>\n",
       "      <td>0</td>\n",
       "      <td>0</td>\n",
       "      <td>0</td>\n",
       "      <td>0</td>\n",
       "      <td>0</td>\n",
       "      <td>0</td>\n",
       "    </tr>\n",
       "    <tr>\n",
       "      <th>2</th>\n",
       "      <td>2018</td>\n",
       "      <td>1</td>\n",
       "      <td>1</td>\n",
       "      <td>27</td>\n",
       "      <td>6</td>\n",
       "      <td>8</td>\n",
       "      <td>828</td>\n",
       "      <td>-2</td>\n",
       "      <td>0</td>\n",
       "      <td>1107</td>\n",
       "      <td>...</td>\n",
       "      <td>0</td>\n",
       "      <td>0</td>\n",
       "      <td>0</td>\n",
       "      <td>0</td>\n",
       "      <td>0</td>\n",
       "      <td>0</td>\n",
       "      <td>0</td>\n",
       "      <td>0</td>\n",
       "      <td>0</td>\n",
       "      <td>0</td>\n",
       "    </tr>\n",
       "    <tr>\n",
       "      <th>3</th>\n",
       "      <td>2018</td>\n",
       "      <td>1</td>\n",
       "      <td>1</td>\n",
       "      <td>27</td>\n",
       "      <td>6</td>\n",
       "      <td>6</td>\n",
       "      <td>641</td>\n",
       "      <td>-9</td>\n",
       "      <td>0</td>\n",
       "      <td>1250</td>\n",
       "      <td>...</td>\n",
       "      <td>0</td>\n",
       "      <td>0</td>\n",
       "      <td>0</td>\n",
       "      <td>0</td>\n",
       "      <td>0</td>\n",
       "      <td>0</td>\n",
       "      <td>0</td>\n",
       "      <td>0</td>\n",
       "      <td>0</td>\n",
       "      <td>0</td>\n",
       "    </tr>\n",
       "    <tr>\n",
       "      <th>4</th>\n",
       "      <td>2018</td>\n",
       "      <td>1</td>\n",
       "      <td>1</td>\n",
       "      <td>27</td>\n",
       "      <td>6</td>\n",
       "      <td>18</td>\n",
       "      <td>1810</td>\n",
       "      <td>-14</td>\n",
       "      <td>0</td>\n",
       "      <td>2045</td>\n",
       "      <td>...</td>\n",
       "      <td>0</td>\n",
       "      <td>0</td>\n",
       "      <td>0</td>\n",
       "      <td>0</td>\n",
       "      <td>0</td>\n",
       "      <td>0</td>\n",
       "      <td>0</td>\n",
       "      <td>0</td>\n",
       "      <td>0</td>\n",
       "      <td>0</td>\n",
       "    </tr>\n",
       "  </tbody>\n",
       "</table>\n",
       "<p>5 rows × 194 columns</p>\n",
       "</div>"
      ],
      "text/plain": [
       "   YEAR  QUARTER  MONTH  DAY_OF_MONTH  DAY_OF_WEEK  CRS_DEP_TIME  DEP_TIME  \\\n",
       "0  2018        1      1            27            6             6       602   \n",
       "1  2018        1      1            27            6             6       614   \n",
       "2  2018        1      1            27            6             8       828   \n",
       "3  2018        1      1            27            6             6       641   \n",
       "4  2018        1      1            27            6            18      1810   \n",
       "\n",
       "   DEP_DELAY  DEP_DEL15  CRS_ARR_TIME    ...     DEST_SEA  DEST_SFO  DEST_SJC  \\\n",
       "0        -13          0           808    ...            0         0         0   \n",
       "1         -4          0           831    ...            0         1         0   \n",
       "2         -2          0          1107    ...            0         0         0   \n",
       "3         -9          0          1250    ...            0         0         0   \n",
       "4        -14          0          2045    ...            0         0         0   \n",
       "\n",
       "   DEST_SJU  DEST_SLC  DEST_SMF  DEST_SNA  DEST_TPA  DEST_TUS  DEST_TYS  \n",
       "0         0         0         0         0         0         0         0  \n",
       "1         0         0         0         0         0         0         0  \n",
       "2         0         0         0         0         0         0         0  \n",
       "3         0         0         0         0         0         0         0  \n",
       "4         0         0         0         0         0         0         0  \n",
       "\n",
       "[5 rows x 194 columns]"
      ]
     },
     "execution_count": 9,
     "metadata": {},
     "output_type": "execute_result"
    }
   ],
   "source": [
    "airport = pd.get_dummies(airport, columns=['ORIGIN','DEST'])\n",
    "airport.head() "
   ]
  },
  {
   "cell_type": "code",
   "execution_count": 10,
   "metadata": {},
   "outputs": [],
   "source": [
    "train_x, test_x, train_y, test_y = train_test_split(airport.drop('ARR_DEL15', axis=1), airport['ARR_DEL15'], test_size=0.2, random_state=101)"
   ]
  },
  {
   "cell_type": "code",
   "execution_count": 11,
   "metadata": {},
   "outputs": [
    {
     "data": {
      "text/plain": [
       "(3997, 193)"
      ]
     },
     "execution_count": 11,
     "metadata": {},
     "output_type": "execute_result"
    }
   ],
   "source": [
    "train_x.shape"
   ]
  },
  {
   "cell_type": "code",
   "execution_count": 12,
   "metadata": {},
   "outputs": [
    {
     "data": {
      "text/plain": [
       "(1000, 193)"
      ]
     },
     "execution_count": 12,
     "metadata": {},
     "output_type": "execute_result"
    }
   ],
   "source": [
    "test_x.shape"
   ]
  },
  {
   "cell_type": "code",
   "execution_count": 13,
   "metadata": {},
   "outputs": [
    {
     "name": "stderr",
     "output_type": "stream",
     "text": [
      "C:\\Users\\nvhuy\\Anaconda3\\lib\\site-packages\\sklearn\\linear_model\\logistic.py:433: FutureWarning: Default solver will be changed to 'lbfgs' in 0.22. Specify a solver to silence this warning.\n",
      "  FutureWarning)\n"
     ]
    },
    {
     "data": {
      "text/plain": [
       "LogisticRegression(C=1.0, class_weight=None, dual=False, fit_intercept=True,\n",
       "          intercept_scaling=1, max_iter=100, multi_class='warn',\n",
       "          n_jobs=None, penalty='l2', random_state=None, solver='warn',\n",
       "          tol=0.005, verbose=0, warm_start=False)"
      ]
     },
     "execution_count": 13,
     "metadata": {},
     "output_type": "execute_result"
    }
   ],
   "source": [
    "reg = linear_model.LogisticRegression(C=1.0, class_weight=None, dual=False, fit_intercept=True,\n",
    "          intercept_scaling=1, max_iter=100, multi_class='warn',\n",
    "          n_jobs=None, penalty='l2', random_state=None, solver='warn',\n",
    "          tol=0.005, verbose=0, warm_start=False)\n",
    "reg.fit(train_x, train_y)"
   ]
  },
  {
   "cell_type": "code",
   "execution_count": 14,
   "metadata": {},
   "outputs": [
    {
     "name": "stdout",
     "output_type": "stream",
     "text": [
      "Accuracy: 98.7%\n",
      "Recall: 86.81%\n",
      "Confusion matrix:\n",
      "[[908   1]\n",
      " [ 12  79]]\n",
      "Area under the ROC curve: 0.06648412093956646\n"
     ]
    },
    {
     "data": {
      "image/png": "[encoded data removed]",
      "text/plain": [
       "<Figure size 432x288 with 1 Axes>"
      ]
     },
     "metadata": {
      "needs_background": "light"
     },
     "output_type": "display_data"
    },
    {
     "data": {
      "image/png": "[encoded data removed]",
      "text/plain": [
       "<Figure size 432x288 with 2 Axes>"
      ]
     },
     "metadata": {
      "needs_background": "light"
     },
     "output_type": "display_data"
    }
   ],
   "source": [
    "y_reg_pred = reg.predict(test_x)\n",
    "\n",
    "labels = [0, 1]\n",
    "cm = confusion_matrix(test_y, y_reg_pred,labels)\n",
    "\n",
    "reg_accuracy = str(np.round(100*float(cm[0][0]+cm[1][1])/float((cm[0][0]+cm[1][1] + cm[1][0] + cm[0][1])),2))\n",
    "reg_recall = str(np.round(100*float((cm[1][1]))/float((cm[1][0]+cm[1][1])),2))\n",
    "\n",
    "print('Accuracy: ' + reg_accuracy +'%')\n",
    "print('Recall: ' + reg_recall +'%')\n",
    "print('Confusion matrix:')\n",
    "print(cm)\n",
    "\n",
    "fpr, tpr, _ = roc_curve(test_y, y_reg_pred)\n",
    "auc = np.trapz(fpr,tpr)\n",
    "print('Area under the ROC curve: ' + str(auc))\n",
    "\n",
    "fig = plt.figure(1)\n",
    "plt.plot(fpr,tpr,color='green')\n",
    "plt.xlabel('False positive rate (FPR)')\n",
    "plt.ylabel('True positive rate (TPR)')\n",
    "plt.title('Receiver operating characteristic (ROC)')\n",
    "\n",
    "fig = plt.figure(2)\n",
    "ax = fig.add_subplot(111)\n",
    "cax = ax.matshow(cm)\n",
    "plt.title('Confusion Matrix for Linear Regression')\n",
    "fig.colorbar(cax)\n",
    "ax.set_xticklabels([''] + labels)\n",
    "ax.set_yticklabels([''] + labels)\n",
    "plt.xlabel('Predicted')\n",
    "plt.ylabel('True')\n",
    "plt.show()"
   ]
  },
  {
   "cell_type": "code",
   "execution_count": 15,
   "metadata": {},
   "outputs": [
    {
     "data": {
      "text/plain": [
       "GradientBoostingClassifier(criterion='friedman_mse', init=None,\n",
       "              learning_rate=0.1, loss='deviance', max_depth=1,\n",
       "              max_features=3, max_leaf_nodes=None,\n",
       "              min_impurity_decrease=0.0, min_impurity_split=None,\n",
       "              min_samples_leaf=2, min_samples_split=2,\n",
       "              min_weight_fraction_leaf=0.0, n_estimators=200,\n",
       "              n_iter_no_change=None, presort='auto', random_state=101,\n",
       "              subsample=1.0, tol=0.0001, validation_fraction=0.2,\n",
       "              verbose=0, warm_start=False)"
      ]
     },
     "execution_count": 15,
     "metadata": {},
     "output_type": "execute_result"
    }
   ],
   "source": [
    "gboost = GradientBoostingClassifier(criterion='friedman_mse', init=None,\n",
    "              learning_rate=0.1, loss='deviance', max_depth=1,\n",
    "              max_features=3, max_leaf_nodes=None,\n",
    "              min_impurity_decrease=0.0, min_impurity_split=None,\n",
    "              min_samples_leaf=2, min_samples_split=2,\n",
    "              min_weight_fraction_leaf=0.0, n_estimators=200,\n",
    "              n_iter_no_change=None, presort='auto', random_state=101,\n",
    "              subsample=1.0, tol=0.0001, validation_fraction=0.2,\n",
    "              verbose=0, warm_start=False)\n",
    "gboost.fit(train_x, train_y) "
   ]
  },
  {
   "cell_type": "code",
   "execution_count": 16,
   "metadata": {
    "scrolled": true
   },
   "outputs": [
    {
     "name": "stdout",
     "output_type": "stream",
     "text": [
      "Accuracy: 98.2%\n",
      "Recall: 80.22%\n",
      "Confusion matrix:\n",
      "[[909   0]\n",
      " [ 18  73]]\n",
      "Area under the ROC curve: 0.09890109890109888\n"
     ]
    },
    {
     "data": {
      "image/png": "[encoded data removed]",
      "text/plain": [
       "<Figure size 432x288 with 1 Axes>"
      ]
     },
     "metadata": {
      "needs_background": "light"
     },
     "output_type": "display_data"
    },
    {
     "data": {
      "image/png": "[encoded data removed]",
      "text/plain": [
       "<Figure size 432x288 with 2 Axes>"
      ]
     },
     "metadata": {
      "needs_background": "light"
     },
     "output_type": "display_data"
    }
   ],
   "source": [
    "y_gboost_pred = gboost.predict(test_x)\n",
    "\n",
    "labels = [0, 1]\n",
    "cm = confusion_matrix(test_y, y_gboost_pred,labels)\n",
    "\n",
    "gboost_accuracy = str(np.round(100*float(cm[0][0]+cm[1][1])/float((cm[0][0]+cm[1][1] + cm[1][0] + cm[0][1])),2))\n",
    "gboost_recall = str(np.round(100*float((cm[1][1]))/float((cm[1][0]+cm[1][1])),2))\n",
    "\n",
    "print('Accuracy: ' + gboost_accuracy +'%')\n",
    "print('Recall: ' + gboost_recall +'%')\n",
    "print('Confusion matrix:')\n",
    "print(cm)\n",
    "\n",
    "fpr, tpr, _ = roc_curve(test_y, y_gboost_pred)\n",
    "auc = np.trapz(fpr,tpr)\n",
    "print('Area under the ROC curve: ' + str(auc))\n",
    "\n",
    "fig = plt.figure(1)\n",
    "plt.plot(fpr,tpr,color='green')\n",
    "plt.xlabel('False positive rate (FPR)')\n",
    "plt.ylabel('True positive rate (TPR)')\n",
    "plt.title('Receiver operating characteristic (ROC)')\n",
    "\n",
    "fig = plt.figure(2)\n",
    "ax = fig.add_subplot(111)\n",
    "cax = ax.matshow(cm)\n",
    "plt.title('Confusion Matrix for Gradient Boosting')\n",
    "fig.colorbar(cax)\n",
    "ax.set_xticklabels([''] + labels)\n",
    "ax.set_yticklabels([''] + labels)\n",
    "plt.xlabel('Predicted')\n",
    "plt.ylabel('True')\n",
    "plt.show()"
   ]
  },
  {
   "cell_type": "code",
   "execution_count": 17,
   "metadata": {},
   "outputs": [
    {
     "data": {
      "text/plain": [
       "DecisionTreeClassifier(class_weight=None, criterion='gini', max_depth=None,\n",
       "            max_features=10, max_leaf_nodes=None,\n",
       "            min_impurity_decrease=0.0, min_impurity_split=None,\n",
       "            min_samples_leaf=1, min_samples_split=2,\n",
       "            min_weight_fraction_leaf=0.0, presort=False, random_state=None,\n",
       "            splitter='best')"
      ]
     },
     "execution_count": 17,
     "metadata": {},
     "output_type": "execute_result"
    }
   ],
   "source": [
    "dtree = DecisionTreeClassifier(class_weight=None, criterion='gini', max_depth=None,\n",
    "            max_features=10, max_leaf_nodes=None,\n",
    "            min_impurity_decrease=0.0, min_impurity_split=None,\n",
    "            min_samples_leaf=1, min_samples_split=2,\n",
    "            min_weight_fraction_leaf=0.0, presort=False, random_state=None,\n",
    "            splitter='best')\n",
    "dtree.fit(train_x, train_y) "
   ]
  },
  {
   "cell_type": "code",
   "execution_count": 18,
   "metadata": {},
   "outputs": [
    {
     "name": "stdout",
     "output_type": "stream",
     "text": [
      "Accuracy: 95.3%\n",
      "Recall: 70.33%\n",
      "Confusion matrix:\n",
      "[[889  20]\n",
      " [ 27  64]]\n",
      "Area under the ROC curve: 0.1593527484616593\n"
     ]
    },
    {
     "data": {
      "image/png": "[encoded data removed]",
      "text/plain": [
       "<Figure size 432x288 with 1 Axes>"
      ]
     },
     "metadata": {
      "needs_background": "light"
     },
     "output_type": "display_data"
    },
    {
     "data": {
      "image/png": "[encoded data removed]",
      "text/plain": [
       "<Figure size 432x288 with 2 Axes>"
      ]
     },
     "metadata": {
      "needs_background": "light"
     },
     "output_type": "display_data"
    }
   ],
   "source": [
    "y_dtree_pred = dtree.predict(test_x)\n",
    "\n",
    "labels = [0, 1]\n",
    "cm = confusion_matrix(test_y, y_dtree_pred,labels)\n",
    "\n",
    "dtree_accuracy = str(np.round(100*float(cm[0][0]+cm[1][1])/float((cm[0][0]+cm[1][1] + cm[1][0] + cm[0][1])),2))\n",
    "dtree_recall = str(np.round(100*float((cm[1][1]))/float((cm[1][0]+cm[1][1])),2))\n",
    "\n",
    "print('Accuracy: ' + dtree_accuracy +'%')\n",
    "print('Recall: ' + dtree_recall +'%')\n",
    "print('Confusion matrix:')\n",
    "print(cm)\n",
    "\n",
    "fpr, tpr, _ = roc_curve(test_y, y_dtree_pred)\n",
    "auc = np.trapz(fpr,tpr)\n",
    "print('Area under the ROC curve: ' + str(auc))\n",
    "\n",
    "fig = plt.figure(1)\n",
    "plt.plot(fpr,tpr,color='green')\n",
    "plt.xlabel('False positive rate (FPR)')\n",
    "plt.ylabel('True positive rate (TPR)')\n",
    "plt.title('Receiver operating characteristic (ROC)')\n",
    "\n",
    "fig = plt.figure(2)\n",
    "ax = fig.add_subplot(111)\n",
    "cax = ax.matshow(cm)\n",
    "plt.title('Confusion Matrix for Decision Tree')\n",
    "fig.colorbar(cax)\n",
    "ax.set_xticklabels([''] + labels)\n",
    "ax.set_yticklabels([''] + labels)\n",
    "plt.xlabel('Predicted')\n",
    "plt.ylabel('True')\n",
    "plt.show()"
   ]
  },
  {
   "cell_type": "code",
   "execution_count": 19,
   "metadata": {},
   "outputs": [
    {
     "data": {
      "text/plain": [
       "RandomForestClassifier(bootstrap=True, class_weight=None, criterion='gini',\n",
       "            max_depth=None, max_features='auto', max_leaf_nodes=None,\n",
       "            min_impurity_decrease=0.0, min_impurity_split=None,\n",
       "            min_samples_leaf=1, min_samples_split=3,\n",
       "            min_weight_fraction_leaf=0.0, n_estimators=10, n_jobs=None,\n",
       "            oob_score=False, random_state=None, verbose=0,\n",
       "            warm_start=False)"
      ]
     },
     "execution_count": 19,
     "metadata": {},
     "output_type": "execute_result"
    }
   ],
   "source": [
    "rforest = RandomForestClassifier(bootstrap=True, class_weight=None, criterion='gini',\n",
    "            max_depth=None, max_features='auto', max_leaf_nodes=None,\n",
    "            min_impurity_decrease=0.0, min_impurity_split=None,\n",
    "            min_samples_leaf=1, min_samples_split=3,\n",
    "            min_weight_fraction_leaf=0.0, n_estimators=10, n_jobs=None,\n",
    "            oob_score=False, random_state=None, verbose=0,\n",
    "            warm_start=False)\n",
    "rforest.fit(train_x, train_y) "
   ]
  },
  {
   "cell_type": "code",
   "execution_count": 20,
   "metadata": {},
   "outputs": [
    {
     "name": "stdout",
     "output_type": "stream",
     "text": [
      "Accuracy: 99.9%\n",
      "Recall: 98.9%\n",
      "Confusion matrix:\n",
      "[[909   0]\n",
      " [  1  90]]\n",
      "Area under the ROC curve: 0.005494505494505475\n"
     ]
    },
    {
     "data": {
      "image/png": "[encoded data removed]",
      "text/plain": [
       "<Figure size 432x288 with 1 Axes>"
      ]
     },
     "metadata": {
      "needs_background": "light"
     },
     "output_type": "display_data"
    },
    {
     "data": {
      "image/png": "[encoded data removed]",
      "text/plain": [
       "<Figure size 432x288 with 2 Axes>"
      ]
     },
     "metadata": {
      "needs_background": "light"
     },
     "output_type": "display_data"
    }
   ],
   "source": [
    "y_rforest_pred = rforest.predict(test_x)\n",
    "\n",
    "labels = [0, 1]\n",
    "cm = confusion_matrix(test_y, y_rforest_pred,labels)\n",
    "\n",
    "rforest_accuracy = str(np.round(100*float(cm[0][0]+cm[1][1])/float((cm[0][0]+cm[1][1] + cm[1][0] + cm[0][1])),2))\n",
    "rforest_recall = str(np.round(100*float((cm[1][1]))/float((cm[1][0]+cm[1][1])),2))\n",
    "\n",
    "print('Accuracy: ' + rforest_accuracy +'%')\n",
    "print('Recall: ' + rforest_recall +'%')\n",
    "print('Confusion matrix:')\n",
    "print(cm)\n",
    "\n",
    "fpr, tpr, _ = roc_curve(test_y, y_rforest_pred)\n",
    "auc = np.trapz(fpr,tpr)\n",
    "print('Area under the ROC curve: ' + str(auc))\n",
    "\n",
    "fig = plt.figure(1)\n",
    "plt.plot(fpr,tpr,color='green')\n",
    "plt.xlabel('False positive rate (FPR)')\n",
    "plt.ylabel('True positive rate (TPR)')\n",
    "plt.title('Receiver operating characteristic (ROC)')\n",
    "\n",
    "fig = plt.figure(2)\n",
    "ax = fig.add_subplot(111)\n",
    "cax = ax.matshow(cm)\n",
    "plt.title('Confusion Matrix for Random Forest')\n",
    "fig.colorbar(cax)\n",
    "ax.set_xticklabels([''] + labels)\n",
    "ax.set_yticklabels([''] + labels)\n",
    "plt.xlabel('Predicted')\n",
    "plt.ylabel('True')\n",
    "plt.show()"
   ]
  }
 ],
 "metadata": {
  "kernelspec": {
   "display_name": "Python 3",
   "language": "python",
   "name": "python3"
  },
  "language_info": {
   "codemirror_mode": {
    "name": "ipython",
    "version": 3
   },
   "file_extension": ".py",
   "mimetype": "text/x-python",
   "name": "python",
   "nbconvert_exporter": "python",
   "pygments_lexer": "ipython3",
   "version": "3.7.1"
  }
 },
 "nbformat": 4,
 "nbformat_minor": 2
}
